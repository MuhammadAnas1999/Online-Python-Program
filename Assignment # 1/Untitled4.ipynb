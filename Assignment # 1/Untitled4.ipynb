{
 "cells": [
  {
   "cell_type": "code",
   "execution_count": 1,
   "id": "3de505ea",
   "metadata": {},
   "outputs": [
    {
     "name": "stdout",
     "output_type": "stream",
     "text": [
      "Enter Your First Name: Muhammad\n",
      "Enter your last Name: Anas\n",
      "Hello:Anas Muhammad\n"
     ]
    }
   ],
   "source": [
    "firstName = input(\"Enter Your First Name: \")\n",
    "lastName = input(\"Enter your last Name: \")\n",
    "print(\"Hello:\" + lastName + \" \" + firstName)"
   ]
  },
  {
   "cell_type": "code",
   "execution_count": null,
   "id": "33661e01",
   "metadata": {},
   "outputs": [],
   "source": []
  }
 ],
 "metadata": {
  "kernelspec": {
   "display_name": "Python 3 (ipykernel)",
   "language": "python",
   "name": "python3"
  },
  "language_info": {
   "codemirror_mode": {
    "name": "ipython",
    "version": 3
   },
   "file_extension": ".py",
   "mimetype": "text/x-python",
   "name": "python",
   "nbconvert_exporter": "python",
   "pygments_lexer": "ipython3",
   "version": "3.9.7"
  }
 },
 "nbformat": 4,
 "nbformat_minor": 5
}
